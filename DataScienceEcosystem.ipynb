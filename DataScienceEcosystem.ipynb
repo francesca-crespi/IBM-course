{
 "cells": [
  {
   "cell_type": "markdown",
   "id": "7ed88068-91ef-4b56-b3a7-0475273b934e",
   "metadata": {},
   "source": [
    "## Author"
   ]
  },
  {
   "cell_type": "markdown",
   "id": "333e305e-00c3-47ef-9846-3227228ca904",
   "metadata": {},
   "source": [
    "Francesca Crespí Campomar"
   ]
  },
  {
   "cell_type": "markdown",
   "id": "aaa56f87-ca48-49ce-adf1-fa164a2696b2",
   "metadata": {},
   "source": [
    "# Data Science Tools and Ecosystem"
   ]
  },
  {
   "cell_type": "markdown",
   "id": "952ffc99-29af-4071-a14b-d5cb12c83df6",
   "metadata": {},
   "source": [
    "In this notebook, Data Science Tools and Ecosystem are summarized"
   ]
  },
  {
   "cell_type": "markdown",
   "id": "79d0ccdf-dbab-44b2-af0b-df7a4cf91dec",
   "metadata": {},
   "source": [
    "**Objectives:**\n",
    "\n",
    "- List popular languages for Data Science  \n",
    "- List commonly used libraries in Data Science  \n",
    "- Identify development environment tools used in Data Science  \n",
    "- Demonstrate arithmetic expression evaluation in Python  \n",
    "- Perform basic unit conversions in Python  \n"
   ]
  },
  {
   "cell_type": "markdown",
   "id": "9d45f949-9147-4a94-a8e1-fba4d96503cd",
   "metadata": {},
   "source": [
    "Some of the popular languages that Data Scientists use are:\n",
    "\n",
    "1. Python  \n",
    "2. R  \n",
    "3. SQL  \n"
   ]
  },
  {
   "cell_type": "markdown",
   "id": "43655763-0548-4240-9f5e-5c820dc1ec65",
   "metadata": {},
   "source": [
    "Some of the commonly used libraries used by Data Scientists include: \n",
    "1. NumPy  \n",
    "2. Pandas  \n",
    "3. Matplotlib  "
   ]
  },
  {
   "cell_type": "markdown",
   "id": "b4db7f65-20f4-4749-97bf-fb699b0389c0",
   "metadata": {},
   "source": [
    "| Data Science Tools |\n",
    "|--------------------|\n",
    "| Jupyter Notebook   |\n",
    "| RStudio            |\n",
    "| Apache Zeppelin    |\n",
    "\n"
   ]
  },
  {
   "cell_type": "markdown",
   "id": "5411c215-46e3-41bf-937c-83892dad392d",
   "metadata": {},
   "source": [
    "### Below are a few examples of evaluating arithmetic expressions in Python."
   ]
  },
  {
   "cell_type": "markdown",
   "id": "e3ac2a11-1e32-42e7-9927-568115b025b4",
   "metadata": {},
   "source": [
    "This is a simple arithmetic expression to multiply then add integers"
   ]
  },
  {
   "cell_type": "code",
   "execution_count": 11,
   "id": "d44e495a-ee9e-432c-9349-2904f986f4a0",
   "metadata": {},
   "outputs": [
    {
     "data": {
      "text/plain": [
       "17"
      ]
     },
     "execution_count": 11,
     "metadata": {},
     "output_type": "execute_result"
    }
   ],
   "source": [
    "(3*4)+5"
   ]
  },
  {
   "cell_type": "markdown",
   "id": "19dbd2e1-90f6-4405-84ce-afbfc671231e",
   "metadata": {},
   "source": [
    "This will convert 200 minutes to hours by dividing by 60"
   ]
  },
  {
   "cell_type": "code",
   "execution_count": 7,
   "id": "3ab272da-1ef1-480f-846e-99e7812440a2",
   "metadata": {},
   "outputs": [],
   "source": [
    "def minutes_to_hours(minutes):\n",
    "    return minutes / 60"
   ]
  },
  {
   "cell_type": "code",
   "execution_count": 8,
   "id": "e56c53bc-b556-4a63-b5d1-53ea48619885",
   "metadata": {},
   "outputs": [
    {
     "data": {
      "text/plain": [
       "3.3333333333333335"
      ]
     },
     "execution_count": 8,
     "metadata": {},
     "output_type": "execute_result"
    }
   ],
   "source": [
    "minutes_to_hours (200)"
   ]
  }
 ],
 "metadata": {
  "kernelspec": {
   "display_name": "Python 3 (ipykernel)",
   "language": "python",
   "name": "python3"
  },
  "language_info": {
   "codemirror_mode": {
    "name": "ipython",
    "version": 3
   },
   "file_extension": ".py",
   "mimetype": "text/x-python",
   "name": "python",
   "nbconvert_exporter": "python",
   "pygments_lexer": "ipython3",
   "version": "3.13.5"
  }
 },
 "nbformat": 4,
 "nbformat_minor": 5
}
